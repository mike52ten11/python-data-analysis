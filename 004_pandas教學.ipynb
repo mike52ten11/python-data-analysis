{
 "cells": [
  {
   "cell_type": "code",
   "execution_count": 3,
   "id": "149603ef",
   "metadata": {},
   "outputs": [],
   "source": [
    "import pandas as pd\n",
    "import numpy as np"
   ]
  },
  {
   "cell_type": "code",
   "execution_count": 6,
   "id": "97c8e089",
   "metadata": {},
   "outputs": [
    {
     "name": "stdout",
     "output_type": "stream",
     "text": [
      "0    1\n",
      "1    2\n",
      "2    3\n",
      "dtype: int64\n"
     ]
    }
   ],
   "source": [
    "s = pd.Series(np.array([1,2,3]))\n",
    "print(s)"
   ]
  },
  {
   "cell_type": "code",
   "execution_count": 8,
   "id": "134b2755",
   "metadata": {},
   "outputs": [
    {
     "name": "stdout",
     "output_type": "stream",
     "text": [
      "年    2024\n",
      "月       6\n",
      "日       3\n",
      "dtype: int64\n"
     ]
    }
   ],
   "source": [
    "s = pd.Series(np.array([2024,6,3]),index=['年','月','日'])\n",
    "print(s)"
   ]
  },
  {
   "cell_type": "code",
   "execution_count": 13,
   "id": "fd551eb6",
   "metadata": {},
   "outputs": [
    {
     "name": "stdout",
     "output_type": "stream",
     "text": [
      "年    2024\n",
      "月       6\n",
      "日       3\n",
      "dtype: int64\n"
     ]
    }
   ],
   "source": [
    "data = {\n",
    "    '年':2024\n",
    "    ,'月':6\n",
    "    ,'日':3\n",
    "}\n",
    "s = pd.Series(data)\n",
    "print(s)"
   ]
  },
  {
   "cell_type": "code",
   "execution_count": 14,
   "id": "602ac0a2",
   "metadata": {},
   "outputs": [
    {
     "name": "stdout",
     "output_type": "stream",
     "text": [
      "年    0.234\n",
      "月    0.666\n",
      "日    0.777\n",
      "dtype: float64\n"
     ]
    }
   ],
   "source": [
    "data = {\n",
    "    '年':0.234\n",
    "    ,'月':0.666\n",
    "    ,'日':0.777\n",
    "}\n",
    "s = pd.Series(data)\n",
    "print(s)"
   ]
  },
  {
   "cell_type": "code",
   "execution_count": 18,
   "id": "074a8e27",
   "metadata": {},
   "outputs": [
    {
     "name": "stdout",
     "output_type": "stream",
     "text": [
      "日\n"
     ]
    }
   ],
   "source": [
    "value_to_find=0.777\n",
    "key = next((k for k, v in data.items() if v == value_to_find), None)\n",
    "print(key)"
   ]
  },
  {
   "cell_type": "markdown",
   "id": "46ffe9a8",
   "metadata": {},
   "source": [
    "# 缺值"
   ]
  },
  {
   "cell_type": "code",
   "execution_count": 28,
   "id": "23e15052",
   "metadata": {},
   "outputs": [
    {
     "name": "stdout",
     "output_type": "stream",
     "text": [
      "年    2024.0\n",
      "月       6.0\n",
      "日       3.0\n",
      "時       NaN\n",
      "分       NaN\n",
      "dtype: float64 \n",
      "\n",
      "找出 NaN 值並一次替換\n",
      " 年    2024.0\n",
      "月       6.0\n",
      "日       3.0\n",
      "時       0.0\n",
      "分       0.0\n",
      "dtype: float64\n"
     ]
    }
   ],
   "source": [
    "data = {\n",
    "    '年':2024\n",
    "    ,'月':6\n",
    "    ,'日':3\n",
    "    ,'時':np.nan\n",
    "    ,'分':np.nan\n",
    "}\n",
    "s = pd.Series(data)\n",
    "print(s,'\\n')\n",
    "\n",
    "# 找出 NaN 值\n",
    "s[pd.isna(s)] = 0\n",
    "\n",
    "print('找出 NaN 值並一次替換\\n',s)"
   ]
  },
  {
   "cell_type": "markdown",
   "id": "3c70fd32",
   "metadata": {},
   "source": [
    "# 合併dataframe"
   ]
  },
  {
   "cell_type": "code",
   "execution_count": 29,
   "id": "c138dae5",
   "metadata": {},
   "outputs": [
    {
     "name": "stdout",
     "output_type": "stream",
     "text": [
      "  Name  Age\n",
      "0    A    1\n",
      "1   BB    2\n",
      "2  CCC    3\n",
      "   Name  Age\n",
      "0    AA   11\n",
      "1   BBB   21\n",
      "2  CCCC   31\n"
     ]
    },
    {
     "data": {
      "text/html": [
       "<div>\n",
       "<style scoped>\n",
       "    .dataframe tbody tr th:only-of-type {\n",
       "        vertical-align: middle;\n",
       "    }\n",
       "\n",
       "    .dataframe tbody tr th {\n",
       "        vertical-align: top;\n",
       "    }\n",
       "\n",
       "    .dataframe thead th {\n",
       "        text-align: right;\n",
       "    }\n",
       "</style>\n",
       "<table border=\"1\" class=\"dataframe\">\n",
       "  <thead>\n",
       "    <tr style=\"text-align: right;\">\n",
       "      <th></th>\n",
       "      <th>Name</th>\n",
       "      <th>Age</th>\n",
       "    </tr>\n",
       "  </thead>\n",
       "  <tbody>\n",
       "    <tr>\n",
       "      <th>0</th>\n",
       "      <td>A</td>\n",
       "      <td>1</td>\n",
       "    </tr>\n",
       "    <tr>\n",
       "      <th>1</th>\n",
       "      <td>BB</td>\n",
       "      <td>2</td>\n",
       "    </tr>\n",
       "    <tr>\n",
       "      <th>2</th>\n",
       "      <td>CCC</td>\n",
       "      <td>3</td>\n",
       "    </tr>\n",
       "    <tr>\n",
       "      <th>0</th>\n",
       "      <td>AA</td>\n",
       "      <td>11</td>\n",
       "    </tr>\n",
       "    <tr>\n",
       "      <th>1</th>\n",
       "      <td>BBB</td>\n",
       "      <td>21</td>\n",
       "    </tr>\n",
       "    <tr>\n",
       "      <th>2</th>\n",
       "      <td>CCCC</td>\n",
       "      <td>31</td>\n",
       "    </tr>\n",
       "  </tbody>\n",
       "</table>\n",
       "</div>"
      ],
      "text/plain": [
       "   Name  Age\n",
       "0     A    1\n",
       "1    BB    2\n",
       "2   CCC    3\n",
       "0    AA   11\n",
       "1   BBB   21\n",
       "2  CCCC   31"
      ]
     },
     "execution_count": 29,
     "metadata": {},
     "output_type": "execute_result"
    }
   ],
   "source": [
    "data1=[['A',1],['BB',2],['CCC',3]]\n",
    "df2=pd.DataFrame(data1,columns=['Name','Age'])\n",
    "print(df2)\n",
    "\n",
    "data2=[['AA',11],['BBB',21],['CCCC',31]]\n",
    "df3=pd.DataFrame(data2,columns=['Name','Age'])\n",
    "\n",
    "print(df3)\n",
    "pd.concat([df2,df3])"
   ]
  },
  {
   "cell_type": "markdown",
   "id": "cdef2a61",
   "metadata": {},
   "source": [
    "## index 接著編號"
   ]
  },
  {
   "cell_type": "code",
   "execution_count": 33,
   "id": "6bdd1a49",
   "metadata": {},
   "outputs": [
    {
     "data": {
      "text/html": [
       "<div>\n",
       "<style scoped>\n",
       "    .dataframe tbody tr th:only-of-type {\n",
       "        vertical-align: middle;\n",
       "    }\n",
       "\n",
       "    .dataframe tbody tr th {\n",
       "        vertical-align: top;\n",
       "    }\n",
       "\n",
       "    .dataframe thead th {\n",
       "        text-align: right;\n",
       "    }\n",
       "</style>\n",
       "<table border=\"1\" class=\"dataframe\">\n",
       "  <thead>\n",
       "    <tr style=\"text-align: right;\">\n",
       "      <th></th>\n",
       "      <th>Name</th>\n",
       "      <th>Age</th>\n",
       "    </tr>\n",
       "  </thead>\n",
       "  <tbody>\n",
       "    <tr>\n",
       "      <th>0</th>\n",
       "      <td>A</td>\n",
       "      <td>1</td>\n",
       "    </tr>\n",
       "    <tr>\n",
       "      <th>1</th>\n",
       "      <td>BB</td>\n",
       "      <td>2</td>\n",
       "    </tr>\n",
       "    <tr>\n",
       "      <th>2</th>\n",
       "      <td>CCC</td>\n",
       "      <td>3</td>\n",
       "    </tr>\n",
       "    <tr>\n",
       "      <th>3</th>\n",
       "      <td>AA</td>\n",
       "      <td>11</td>\n",
       "    </tr>\n",
       "    <tr>\n",
       "      <th>4</th>\n",
       "      <td>BBB</td>\n",
       "      <td>21</td>\n",
       "    </tr>\n",
       "    <tr>\n",
       "      <th>5</th>\n",
       "      <td>CCCC</td>\n",
       "      <td>31</td>\n",
       "    </tr>\n",
       "  </tbody>\n",
       "</table>\n",
       "</div>"
      ],
      "text/plain": [
       "   Name  Age\n",
       "0     A    1\n",
       "1    BB    2\n",
       "2   CCC    3\n",
       "3    AA   11\n",
       "4   BBB   21\n",
       "5  CCCC   31"
      ]
     },
     "execution_count": 33,
     "metadata": {},
     "output_type": "execute_result"
    }
   ],
   "source": [
    "df = pd.concat([df2,df3],ignore_index=True)\n",
    "df"
   ]
  },
  {
   "cell_type": "code",
   "execution_count": 38,
   "id": "e6844bab",
   "metadata": {},
   "outputs": [
    {
     "name": "stdout",
     "output_type": "stream",
     "text": [
      "index =  0\n",
      "row =  Name    A\n",
      "Age     1\n",
      "Name: 0, dtype: object\n",
      "============================\n",
      "index =  1\n",
      "row =  Name    BB\n",
      "Age      2\n",
      "Name: 1, dtype: object\n",
      "============================\n",
      "index =  2\n",
      "row =  Name    CCC\n",
      "Age       3\n",
      "Name: 2, dtype: object\n",
      "============================\n",
      "index =  3\n",
      "row =  Name    AA\n",
      "Age     11\n",
      "Name: 3, dtype: object\n",
      "============================\n",
      "index =  4\n",
      "row =  Name    BBB\n",
      "Age      21\n",
      "Name: 4, dtype: object\n",
      "============================\n",
      "index =  5\n",
      "row =  Name    CCCC\n",
      "Age       31\n",
      "Name: 5, dtype: object\n",
      "============================\n"
     ]
    }
   ],
   "source": [
    "for index , row in df.iterrows():\n",
    "    print('index = ',index)\n",
    "    print('row = ', row)\n",
    "    print('============================')"
   ]
  },
  {
   "cell_type": "code",
   "execution_count": 39,
   "id": "76e1d768",
   "metadata": {},
   "outputs": [
    {
     "name": "stdout",
     "output_type": "stream",
     "text": [
      "  key1 key2     data1     data2\n",
      "0    a  one  0.020882 -1.071114\n",
      "1    a  two  1.838720 -0.168789\n",
      "2    b  one  0.111243 -0.369645\n",
      "3    b  two  0.282598  0.906936\n",
      "4    a  one -0.332330  0.023934\n"
     ]
    },
    {
     "data": {
      "text/plain": [
       "<pandas.core.groupby.generic.SeriesGroupBy object at 0x7f465a938ca0>"
      ]
     },
     "execution_count": 39,
     "metadata": {},
     "output_type": "execute_result"
    }
   ],
   "source": [
    "df = pd.DataFrame({\n",
    "    'key1' : ['a','a','b','b','a'],\n",
    "    'key2' : ['one','two','one','two','one'],\n",
    "    'data1' : np.random.randn(5),\n",
    "    'data2' : np.random.randn(5)\n",
    "})\n",
    "print(df)\n",
    "\n"
   ]
  },
  {
   "cell_type": "code",
   "execution_count": 48,
   "id": "ff96c575",
   "metadata": {},
   "outputs": [
    {
     "name": "stdout",
     "output_type": "stream",
     "text": [
      "============== 分組 a    ===================\n",
      "  key1 key2     data1     data2\n",
      "0    a  one  0.020882 -1.071114\n",
      "1    a  two  1.838720 -0.168789\n",
      "4    a  one -0.332330  0.023934\n",
      "\n",
      "\n",
      "============== 分組 b    ===================\n",
      "  key1 key2     data1     data2\n",
      "2    b  one  0.111243 -0.369645\n",
      "3    b  two  0.282598  0.906936\n",
      "\n",
      "\n"
     ]
    }
   ],
   "source": [
    "grouped = df.groupby(df['key1'])\n",
    "for i, group in grouped:\n",
    "    print(f'============== 分組 {i}    ===================')\n",
    "    print(group)\n",
    "    print('\\n')\n",
    "    "
   ]
  },
  {
   "cell_type": "code",
   "execution_count": null,
   "id": "c85f1de0",
   "metadata": {},
   "outputs": [],
   "source": []
  }
 ],
 "metadata": {
  "kernelspec": {
   "display_name": "conda_python3",
   "language": "python",
   "name": "conda_python3"
  },
  "language_info": {
   "codemirror_mode": {
    "name": "ipython",
    "version": 3
   },
   "file_extension": ".py",
   "mimetype": "text/x-python",
   "name": "python",
   "nbconvert_exporter": "python",
   "pygments_lexer": "ipython3",
   "version": "3.10.14"
  }
 },
 "nbformat": 4,
 "nbformat_minor": 5
}
