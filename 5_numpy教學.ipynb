{
 "cells": [
  {
   "cell_type": "code",
   "execution_count": 1,
   "id": "96f4e903",
   "metadata": {},
   "outputs": [],
   "source": [
    "import numpy as np"
   ]
  },
  {
   "cell_type": "code",
   "execution_count": 5,
   "id": "61b1e539",
   "metadata": {},
   "outputs": [],
   "source": [
    "a = np.array([\n",
    "    [1,2,3],\n",
    "    [4,5,6]\n",
    "], dtype=np.float32)"
   ]
  },
  {
   "cell_type": "code",
   "execution_count": 8,
   "id": "c710af2a",
   "metadata": {},
   "outputs": [
    {
     "name": "stdout",
     "output_type": "stream",
     "text": [
      "2\n"
     ]
    }
   ],
   "source": [
    "print(a.ndim)#數據維度"
   ]
  },
  {
   "cell_type": "code",
   "execution_count": 9,
   "id": "e4a4b740",
   "metadata": {},
   "outputs": [
    {
     "name": "stdout",
     "output_type": "stream",
     "text": [
      "(2, 3)\n"
     ]
    }
   ],
   "source": [
    "print(a.shape)#數據形狀(列x行)"
   ]
  },
  {
   "cell_type": "code",
   "execution_count": null,
   "id": "3ffb0d48",
   "metadata": {},
   "outputs": [],
   "source": [
    "print(a.dtype)#數據型態"
   ]
  },
  {
   "cell_type": "code",
   "execution_count": 10,
   "id": "c9e9380c",
   "metadata": {},
   "outputs": [
    {
     "name": "stdout",
     "output_type": "stream",
     "text": [
      "3.5\n"
     ]
    }
   ],
   "source": [
    "print(np.average(a))#平均"
   ]
  },
  {
   "cell_type": "code",
   "execution_count": 12,
   "id": "0bc05271",
   "metadata": {},
   "outputs": [
    {
     "data": {
      "text/plain": [
       "array([1., 2., 3., 4., 5., 6.], dtype=float32)"
      ]
     },
     "execution_count": 12,
     "metadata": {},
     "output_type": "execute_result"
    }
   ],
   "source": [
    "a.reshape(-1)#變成1維"
   ]
  },
  {
   "cell_type": "code",
   "execution_count": 13,
   "id": "437fe537",
   "metadata": {},
   "outputs": [
    {
     "data": {
      "text/plain": [
       "array([[1., 2.],\n",
       "       [3., 4.],\n",
       "       [5., 6.]], dtype=float32)"
      ]
     },
     "execution_count": 13,
     "metadata": {},
     "output_type": "execute_result"
    }
   ],
   "source": [
    "a.reshape((3,2))#變成3x2"
   ]
  },
  {
   "cell_type": "code",
   "execution_count": 15,
   "id": "3e4a9374",
   "metadata": {},
   "outputs": [
    {
     "data": {
      "text/plain": [
       "array([[1., 4.],\n",
       "       [2., 5.],\n",
       "       [3., 6.]], dtype=float32)"
      ]
     },
     "execution_count": 15,
     "metadata": {},
     "output_type": "execute_result"
    }
   ],
   "source": [
    "a.T#a轉置"
   ]
  },
  {
   "cell_type": "code",
   "execution_count": 20,
   "id": "ecd2ce7c",
   "metadata": {},
   "outputs": [
    {
     "data": {
      "text/plain": [
       "array([[1., 4.],\n",
       "       [2., 5.],\n",
       "       [3., 6.]], dtype=float32)"
      ]
     },
     "execution_count": 20,
     "metadata": {},
     "output_type": "execute_result"
    }
   ],
   "source": [
    "a.transpose((1,0))#a 列轉置"
   ]
  },
  {
   "cell_type": "code",
   "execution_count": 21,
   "id": "7148955a",
   "metadata": {},
   "outputs": [
    {
     "data": {
      "text/plain": [
       "array([[1., 2., 3.],\n",
       "       [4., 5., 6.]], dtype=float32)"
      ]
     },
     "execution_count": 21,
     "metadata": {},
     "output_type": "execute_result"
    }
   ],
   "source": [
    "a.transpose((0,1))#a 行轉置"
   ]
  },
  {
   "cell_type": "markdown",
   "id": "1c763ab6",
   "metadata": {},
   "source": [
    "## 內積"
   ]
  },
  {
   "cell_type": "code",
   "execution_count": 34,
   "id": "1c2a35bc",
   "metadata": {},
   "outputs": [
    {
     "name": "stdout",
     "output_type": "stream",
     "text": [
      "用np.dot =  32\n",
      "用@ =  32\n"
     ]
    }
   ],
   "source": [
    "inner_product  = np.dot(np.array([1,2,3]) ,np.array([4,5,6]))\n",
    "print('用np.dot = ',inner_product)\n",
    "\n",
    "inner_product  = np.array([1,2,3]) @ np.array([4,5,6])\n",
    "print('用@ = ',inner_product)\n",
    "\n"
   ]
  },
  {
   "cell_type": "markdown",
   "id": "56f32bc3",
   "metadata": {},
   "source": [
    "## 逐元素乘法"
   ]
  },
  {
   "cell_type": "code",
   "execution_count": 40,
   "id": "644de1dd",
   "metadata": {},
   "outputs": [
    {
     "name": "stdout",
     "output_type": "stream",
     "text": [
      "用for 迴圈: [ 4 10 18]\n",
      "用np函式 [ 4 10 18]\n"
     ]
    }
   ],
   "source": [
    "a = np.array([1,2,3])\n",
    "b = np.array([4,5,6])\n",
    "elementwise_product = np.zeros((3),dtype=int)\n",
    "for i in range(3):\n",
    "    elementwise_product[i] = a[i]*b[i]\n",
    "\n",
    "print('用for 迴圈:',elementwise_product)\n",
    "\n",
    "#想要每個元素相乘可以使用*就好了\n",
    "elementwise_product = np.array([1,2,3]) * np.array([4,5,6])\n",
    "print('用np函式',elementwise_product)"
   ]
  },
  {
   "cell_type": "markdown",
   "id": "560a3fa4",
   "metadata": {},
   "source": [
    "## cos 相似性"
   ]
  },
  {
   "cell_type": "code",
   "execution_count": 23,
   "id": "7c06f09e",
   "metadata": {},
   "outputs": [
    {
     "name": "stdout",
     "output_type": "stream",
     "text": [
      "余弦相似性: 0.9746318461970762\n"
     ]
    }
   ],
   "source": [
    "import numpy as np\n",
    "\n",
    "# 定義兩個 numpy array\n",
    "a = np.array([1, 2, 3])\n",
    "b = np.array([4, 5, 6])\n",
    "\n",
    "# 計算內積\n",
    "dot_product = np.dot(a, b)\n",
    "\n",
    "# 計算 L2 範數\n",
    "norm_a = np.linalg.norm(a)\n",
    "norm_b = np.linalg.norm(b)\n",
    "\n",
    "# 計算余弦相似性\n",
    "cosine_similarity = dot_product / (norm_a * norm_b)\n",
    "\n",
    "print(\"余弦相似性:\", cosine_similarity)\n"
   ]
  },
  {
   "cell_type": "code",
   "execution_count": null,
   "id": "43ff742f",
   "metadata": {},
   "outputs": [],
   "source": []
  }
 ],
 "metadata": {
  "kernelspec": {
   "display_name": "conda_python3",
   "language": "python",
   "name": "conda_python3"
  },
  "language_info": {
   "codemirror_mode": {
    "name": "ipython",
    "version": 3
   },
   "file_extension": ".py",
   "mimetype": "text/x-python",
   "name": "python",
   "nbconvert_exporter": "python",
   "pygments_lexer": "ipython3",
   "version": "3.10.14"
  }
 },
 "nbformat": 4,
 "nbformat_minor": 5
}
