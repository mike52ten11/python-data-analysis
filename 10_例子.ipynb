{
 "cells": [
  {
   "cell_type": "markdown",
   "id": "c21325d0",
   "metadata": {},
   "source": [
    "# 批量讀取csv 並畫每年每月用電量最高在幾點的盒鬚圖 且將圖的數據以numpy保存"
   ]
  },
  {
   "cell_type": "markdown",
   "id": "9f219413",
   "metadata": {},
   "source": [
    "###  Step 1 讀取csv"
   ]
  },
  {
   "cell_type": "code",
   "execution_count": null,
   "id": "bb5e1695",
   "metadata": {},
   "outputs": [],
   "source": [
    "import pandas as pd\n",
    "\n",
    "def my_read_csv(csv_path):\n",
    "    df = pd.read_csv(csv_path,encoding='ANSI')\n",
    "    return df\n",
    "\n",
    "\n",
    "    \n",
    "    "
   ]
  },
  {
   "cell_type": "code",
   "execution_count": null,
   "id": "e6b73e7a",
   "metadata": {},
   "outputs": [],
   "source": [
    "import plotly.express as px\n",
    "\n",
    "def plot_box(max_kwh,savepath):\n",
    "    \n",
    "    fig = px.box(max_kwh, x=\"Month\", y=\"Hour\",points=\"all\")\n",
    "    fig.update_yaxes(range=[-1,24], dtick=1)\n",
    "\n",
    "    fig.write_image(savepath)\n",
    "    fig.write_html(savepath)\n",
    "    fig.show()   \n",
    "\n",
    "    "
   ]
  }
 ],
 "metadata": {
  "kernelspec": {
   "display_name": "Python 3 (ipykernel)",
   "language": "python",
   "name": "python3"
  },
  "language_info": {
   "codemirror_mode": {
    "name": "ipython",
    "version": 3
   },
   "file_extension": ".py",
   "mimetype": "text/x-python",
   "name": "python",
   "nbconvert_exporter": "python",
   "pygments_lexer": "ipython3",
   "version": "3.10.9"
  }
 },
 "nbformat": 4,
 "nbformat_minor": 5
}
