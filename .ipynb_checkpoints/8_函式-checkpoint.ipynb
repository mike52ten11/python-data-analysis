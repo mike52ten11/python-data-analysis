{
 "cells": [
  {
   "cell_type": "code",
   "execution_count": 20,
   "id": "fbd53938",
   "metadata": {},
   "outputs": [],
   "source": [
    "import pandas as pd\n",
    "'''\n",
    "    函數是一個僅在被呼叫時運行的程式碼區塊。\n",
    "\n",
    "    可以將資料（稱為參數）傳遞到函數中。\n",
    "\n",
    "    函數可以傳回資料作為結果。\n",
    "    可以讓程式碼可讀性變高\n",
    "'''\n",
    "\n",
    "\n",
    "def my_function1():\n",
    "    print(\"Hello from a function\")\n",
    "\n",
    "\n"
   ]
  },
  {
   "cell_type": "code",
   "execution_count": 15,
   "id": "db7a708b",
   "metadata": {},
   "outputs": [
    {
     "name": "stdout",
     "output_type": "stream",
     "text": [
      "Hello from a function\n",
      "name --> xxxxx\n",
      "email --> uxxxxx\n"
     ]
    }
   ],
   "source": [
    "my_function1() \n",
    "my_function2(\"xxxxx\")"
   ]
  },
  {
   "cell_type": "code",
   "execution_count": 23,
   "id": "b6a51145",
   "metadata": {},
   "outputs": [
    {
     "name": "stdout",
     "output_type": "stream",
     "text": [
      "name --> 621882\n",
      "email --> u621882@taipower.com.tw\n",
      "======================================================\n",
      "name --> 621xxx\n",
      "email --> u621xxx@taipower.com.tw\n",
      "======================================================\n"
     ]
    }
   ],
   "source": [
    "namelist = [\"621882\",\"621xxx\"]\n",
    "for i in range(len(namelist)):\n",
    "    name = namelist[i]\n",
    "    print('name -->', name)\n",
    "    print('email -->', 'u'+name+'@taipower.com.tw')  \n",
    "    print('======================================================')"
   ]
  },
  {
   "cell_type": "code",
   "execution_count": 25,
   "id": "46b2d561",
   "metadata": {},
   "outputs": [],
   "source": [
    "def my_function2(name):\n",
    "    print('name -->', name)\n",
    "    print('email -->', 'u'+name+'@taipower.com.tw')  \n",
    "    print('======================================================')"
   ]
  },
  {
   "cell_type": "code",
   "execution_count": 26,
   "id": "5459a046",
   "metadata": {},
   "outputs": [
    {
     "name": "stdout",
     "output_type": "stream",
     "text": [
      "name --> 621882\n",
      "email --> u621882@taipower.com.tw\n",
      "======================================================\n",
      "name --> 621xxx\n",
      "email --> u621xxx@taipower.com.tw\n",
      "======================================================\n"
     ]
    }
   ],
   "source": [
    "namelist = [\"621882\",\"621xxx\"]\n",
    "for i in range(len(namelist)):\n",
    "    name = namelist[i]\n",
    "    my_function2(name)    "
   ]
  },
  {
   "cell_type": "code",
   "execution_count": null,
   "id": "939f8fff",
   "metadata": {},
   "outputs": [],
   "source": []
  }
 ],
 "metadata": {
  "kernelspec": {
   "display_name": "Python 3 (ipykernel)",
   "language": "python",
   "name": "python3"
  },
  "language_info": {
   "codemirror_mode": {
    "name": "ipython",
    "version": 3
   },
   "file_extension": ".py",
   "mimetype": "text/x-python",
   "name": "python",
   "nbconvert_exporter": "python",
   "pygments_lexer": "ipython3",
   "version": "3.10.9"
  }
 },
 "nbformat": 4,
 "nbformat_minor": 5
}
