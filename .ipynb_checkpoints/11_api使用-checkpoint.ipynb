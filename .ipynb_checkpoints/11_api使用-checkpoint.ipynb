{
 "cells": [
  {
   "cell_type": "markdown",
   "id": "152589de",
   "metadata": {},
   "source": [
    "## 氣象資料 API介接"
   ]
  },
  {
   "cell_type": "code",
   "execution_count": 3,
   "id": "ec4bf2c1",
   "metadata": {},
   "outputs": [
    {
     "name": "stdout",
     "output_type": "stream",
     "text": [
      "Error: 502 <Response [502]>\n"
     ]
    }
   ],
   "source": [
    "import requests\n",
    "\n",
    "endpoint = \"http://10.52.165.42/backend/api/v1/obs/cb_grid_lastest/\"\n",
    "params = {\"latlon\": \"23,121\"}\n",
    "auth_token = \"54dd375c9dea42298bc7905e5de24590\"\n",
    "\n",
    "try:\n",
    "  # 向資源發送請求，並傳遞該資源所需參數\n",
    "  response = requests.get(endpoint, params=params, headers={\"Authorization\": f\"Token {auth_token}\"})\n",
    "\n",
    "  # 請求成功回傳資料\n",
    "  if response.status_code == 200:\n",
    "    #result = response.json()\n",
    "    print(f\"success! data= {result}\")\n",
    "\n",
    "  else:\n",
    "    # 請求失敗的status_code\n",
    "    print(f\"Error: {response.status_code} {response}\")\n",
    "\n",
    "except Exception as e:\n",
    "  print(f\"An error occurred: {str(e)}\")"
   ]
  },
  {
   "cell_type": "markdown",
   "id": "7eee2a0c",
   "metadata": {},
   "source": [
    "## LLM API 介接"
   ]
  },
  {
   "cell_type": "code",
   "execution_count": 6,
   "id": "0698ccdf",
   "metadata": {},
   "outputs": [
    {
     "name": "stdout",
     "output_type": "stream",
     "text": [
      "assistant:\n",
      "A great task! 😊\n",
      "\n",
      "To read a CSV file, plot a chart, and save the plot data in Python, you can use the following steps:\n",
      "\n",
      "**Step 1: Import necessary libraries**\n",
      "\n",
      "You'll need to import the following libraries:\n",
      "\n",
      "* `pandas` for reading CSV files\n",
      "* `matplotlib` for plotting charts\n",
      "* `numpy` for numerical computations\n",
      "\n",
      "Add the following lines to your Python code:\n",
      "```python\n",
      "import pandas as pd\n",
      "import matplotlib.pyplot as plt\n",
      "import numpy as np\n",
      "```\n",
      "**Step 2: Read the CSV file**\n",
      "\n",
      "Use the `read_csv` function from `pandas` to read the CSV file:\n",
      "```python\n",
      "df = pd.read_csv('your_file.csv')\n",
      "```\n",
      "Replace `'your_file.csv'` with the path to your CSV file.\n",
      "\n",
      "**Step 3: Plot the chart**\n",
      "\n",
      "Use the `plot` function from `matplotlib` to create a chart. For example, if you want to plot a line chart:\n",
      "```python\n",
      "plt.plot(df['column1'], df['column2'])\n",
      "```\n",
      "Replace `'column1'` and `'column2'` with the column names you want to plot.\n",
      "\n",
      "**Step 4: Customize the plot (optional)**\n",
      "\n",
      "You can customize the plot by adding titles, labels, and legends:\n",
      "```python\n",
      "plt.title('Your Chart Title')\n",
      "plt.xlabel('X Axis Label')\n",
      "plt.ylabel('Y Axis Label')\n",
      "plt.legend()\n",
      "```\n",
      "**Step 5: Save the plot data**\n",
      "\n",
      "Use the `savefig` function from `matplotlib` to save the plot as an image file:\n",
      "```python\n",
      "plt.savefig('your_plot.png')\n",
      "```\n",
      "Replace `'your_plot.png'` with the desired file name and format (e.g., PNG, PDF, SVG).\n",
      "\n",
      "**Step 6: Close the plot**\n",
      "\n",
      "Finally, close the plot window using:\n",
      "```python\n",
      "plt.close()\n",
      "```\n",
      "Here's the complete code:\n",
      "```python\n",
      "import pandas as pd\n",
      "import matplotlib.pyplot as plt\n",
      "import numpy as np\n",
      "\n",
      "# Read the CSV file\n",
      "df = pd.read_csv('your_file.csv')\n",
      "\n",
      "# Plot the chart\n",
      "plt.plot(df['column1'], df['column2'])\n",
      "\n",
      "# Customize the plot (optional)\n",
      "plt.title('Your Chart Title')\n",
      "plt.xlabel('X Axis Label')\n",
      "plt.ylabel('Y Axis Label')\n",
      "plt.legend()\n",
      "\n",
      "# Save the plot data\n",
      "plt.savefig('your_plot.png')\n",
      "\n",
      "# Close the plot\n",
      "plt.close()\n",
      "```\n",
      "Run this code, and you'll have a beautiful chart saved as an image file! 📊\n"
     ]
    }
   ],
   "source": [
    "import requests\n",
    "\n",
    "LLAMA_FACTORY_API_URL = \"http://10.52.121.112:30224/v1/chat/completions\"\n",
    "LLAMA_FACTORY_API_KEY = \" \"  # 請將your-api-key替換為您的實際API金鑰 \n",
    "prompt = \"批量讀取csv並畫合鬚圖且保存畫圖的數據\"\n",
    "\n",
    "headers = {\n",
    "    \"Authorization\": f\"Bearer {LLAMA_FACTORY_API_KEY}\",\n",
    "    \"accept\": \"application/json\",\n",
    "    \"Content-Type\": \"application/json\"\n",
    "}\n",
    "data = {\n",
    "    \"model\": \"string\",  # 替換為您的模型名稱\n",
    "    \"messages\": [\n",
    "        {\n",
    "            \"role\": \"user\",\n",
    "            \"content\": prompt\n",
    "        }\n",
    "    ]\n",
    "}\n",
    "\n",
    "# 向LLaMA-Factory API發送POST請求\n",
    "response =  requests.post(LLAMA_FACTORY_API_URL, json=data, headers=headers)\n",
    "# response = requests.post(url, params=params)\n",
    "\n",
    "if response.status_code == 200:\n",
    "    # 如果成功,处理响应的数据\n",
    "    data = response.json()    \n",
    "    reaponse_message = data[\"choices\"][0][\"message\"]\n",
    "    print(f'{reaponse_message[\"role\"]}:\\n{reaponse_message[\"content\"]}')    \n",
    "else:\n",
    "    print(\"Request failed:\", response.status_code)\n",
    "    print(data)"
   ]
  },
  {
   "cell_type": "code",
   "execution_count": null,
   "id": "06346fef",
   "metadata": {},
   "outputs": [],
   "source": []
  }
 ],
 "metadata": {
  "kernelspec": {
   "display_name": "Python 3 (ipykernel)",
   "language": "python",
   "name": "python3"
  },
  "language_info": {
   "codemirror_mode": {
    "name": "ipython",
    "version": 3
   },
   "file_extension": ".py",
   "mimetype": "text/x-python",
   "name": "python",
   "nbconvert_exporter": "python",
   "pygments_lexer": "ipython3",
   "version": "3.10.9"
  }
 },
 "nbformat": 4,
 "nbformat_minor": 5
}
