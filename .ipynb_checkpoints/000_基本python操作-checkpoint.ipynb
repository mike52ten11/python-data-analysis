{
 "cells": [
  {
   "cell_type": "markdown",
   "id": "e194b3c5",
   "metadata": {},
   "source": [
    "# 一、賦值"
   ]
  },
  {
   "cell_type": "markdown",
   "id": "01b3e3b8",
   "metadata": {},
   "source": [
    "## 1.文字"
   ]
  },
  {
   "cell_type": "code",
   "execution_count": 4,
   "id": "e7c0da3a",
   "metadata": {},
   "outputs": [
    {
     "name": "stdout",
     "output_type": "stream",
     "text": [
      "hello world\n"
     ]
    }
   ],
   "source": [
    "a='hello world'\n",
    "print(a)"
   ]
  },
  {
   "cell_type": "markdown",
   "id": "26ca3ef9",
   "metadata": {},
   "source": [
    "## 2.數字"
   ]
  },
  {
   "cell_type": "code",
   "execution_count": null,
   "id": "2c64a5d5",
   "metadata": {},
   "outputs": [],
   "source": [
    "a=5\n",
    "print(a)"
   ]
  },
  {
   "cell_type": "markdown",
   "id": "a7f35532",
   "metadata": {},
   "source": [
    "## 3.陣列"
   ]
  },
  {
   "cell_type": "markdown",
   "id": "97e61f22",
   "metadata": {},
   "source": [
    "### 3.1 字典"
   ]
  },
  {
   "cell_type": "code",
   "execution_count": 27,
   "id": "041e3ea5",
   "metadata": {},
   "outputs": [
    {
     "name": "stdout",
     "output_type": "stream",
     "text": [
      "{'date': '2024-01-01 04:00', 'name': 'tpri', 'age': 18}\n"
     ]
    }
   ],
   "source": [
    "a={'date':'2024-01-01 04:00',\n",
    "       'name':'tpri',\n",
    "      'age':18}\n",
    "print(a)"
   ]
  },
  {
   "cell_type": "code",
   "execution_count": 28,
   "id": "4e453d75",
   "metadata": {},
   "outputs": [
    {
     "data": {
      "text/plain": [
       "'2024-01-01 04:00'"
      ]
     },
     "execution_count": 28,
     "metadata": {},
     "output_type": "execute_result"
    }
   ],
   "source": [
    "a['date']"
   ]
  },
  {
   "cell_type": "code",
   "execution_count": 32,
   "id": "7dc8f9fa",
   "metadata": {},
   "outputs": [
    {
     "name": "stdout",
     "output_type": "stream",
     "text": [
      "[{'date': '2024-01-01 04:00', 'name': 'tpri', 'age': 18}, {'date': '2024-01-01 04:00', 'name': 'TPRI', 'age': 20}]\n"
     ]
    }
   ],
   "source": [
    "a=[\n",
    "        {\n",
    "            'date':'2024-01-01 04:00',\n",
    "            'name':'tpri',\n",
    "            'age':18\n",
    "        },\n",
    "        {\n",
    "              'date':'2024-01-01 04:00',\n",
    "              'name':'TPRI',\n",
    "              'age':20\n",
    "        \n",
    "        }\n",
    "]\n",
    "print(a)"
   ]
  },
  {
   "cell_type": "markdown",
   "id": "78a801ef",
   "metadata": {},
   "source": [
    "### 3.2 list"
   ]
  },
  {
   "cell_type": "code",
   "execution_count": 16,
   "id": "38895c4b",
   "metadata": {},
   "outputs": [
    {
     "name": "stdout",
     "output_type": "stream",
     "text": [
      "[1, 2, 3]\n",
      "在後面加入4 [1, 2, 3, 4]\n"
     ]
    }
   ],
   "source": [
    "a=[1,2,3]\n",
    "print(a)\n",
    "a.append(4)\n",
    "print('在後面加入4',a)"
   ]
  },
  {
   "cell_type": "code",
   "execution_count": null,
   "id": "69e32f1c",
   "metadata": {},
   "outputs": [],
   "source": []
  },
  {
   "cell_type": "markdown",
   "id": "523d92b8",
   "metadata": {},
   "source": [
    "# 二、迴圈"
   ]
  },
  {
   "cell_type": "code",
   "execution_count": null,
   "id": "917459bb",
   "metadata": {},
   "outputs": [],
   "source": [
    "for i in range(10):\n",
    "    print(i)"
   ]
  },
  {
   "cell_type": "markdown",
   "id": "cdd3182a",
   "metadata": {},
   "source": [
    "# 三、條件判斷"
   ]
  },
  {
   "cell_type": "code",
   "execution_count": 25,
   "id": "0e7b2cd1",
   "metadata": {},
   "outputs": [
    {
     "name": "stdout",
     "output_type": "stream",
     "text": [
      "a=b\n"
     ]
    }
   ],
   "source": [
    "a = 1\n",
    "b = 1\n",
    "if a<b:\n",
    "    print('a<b')\n",
    "elif a>b:\n",
    "    print('a<b')\n",
    "else:\n",
    "    print('a=b')"
   ]
  },
  {
   "cell_type": "markdown",
   "id": "a0e3e344",
   "metadata": {},
   "source": [
    "## 四、字串"
   ]
  },
  {
   "cell_type": "markdown",
   "id": "d6635956",
   "metadata": {},
   "source": [
    "## 1.字串合併"
   ]
  },
  {
   "cell_type": "code",
   "execution_count": 20,
   "id": "5572d655",
   "metadata": {},
   "outputs": [
    {
     "name": "stdout",
     "output_type": "stream",
     "text": [
      "Python課程\n"
     ]
    }
   ],
   "source": [
    "a = 'Python'\n",
    "b = '課程'\n",
    "c = a + b\n",
    "print(c)"
   ]
  },
  {
   "cell_type": "markdown",
   "id": "38dd7f64",
   "metadata": {},
   "source": [
    "## 2.數值轉換"
   ]
  },
  {
   "cell_type": "code",
   "execution_count": 24,
   "id": "0135dfe3",
   "metadata": {},
   "outputs": [
    {
     "name": "stdout",
     "output_type": "stream",
     "text": [
      "3.14159\n",
      "3\n",
      "True\n"
     ]
    }
   ],
   "source": [
    "s = '3.14159'\n",
    "fval = float(s)\n",
    "print(fval)\n",
    "print(int(fval))\n",
    "print(bool(fval))#只要不是0就是true"
   ]
  },
  {
   "cell_type": "code",
   "execution_count": 17,
   "id": "87c36203",
   "metadata": {},
   "outputs": [],
   "source": []
  },
  {
   "cell_type": "code",
   "execution_count": null,
   "id": "d8dbb78e",
   "metadata": {},
   "outputs": [],
   "source": []
  }
 ],
 "metadata": {
  "kernelspec": {
   "display_name": "Python 3 (ipykernel)",
   "language": "python",
   "name": "python3"
  },
  "language_info": {
   "codemirror_mode": {
    "name": "ipython",
    "version": 3
   },
   "file_extension": ".py",
   "mimetype": "text/x-python",
   "name": "python",
   "nbconvert_exporter": "python",
   "pygments_lexer": "ipython3",
   "version": "3.10.9"
  }
 },
 "nbformat": 4,
 "nbformat_minor": 5
}
