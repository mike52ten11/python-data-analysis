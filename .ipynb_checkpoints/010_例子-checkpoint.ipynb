{
 "cells": [
  {
   "cell_type": "markdown",
   "id": "c21325d0",
   "metadata": {},
   "source": [
    "# 批量讀取csv 並畫每年每月用電量最高在幾點的盒鬚圖 且將圖的數據以numpy保存"
   ]
  },
  {
   "cell_type": "code",
   "execution_count": 2,
   "id": "bb5e1695",
   "metadata": {},
   "outputs": [],
   "source": [
    "import pandas as pd\n",
    "import numpy as np\n",
    "import plotly.express as px\n",
    "import plotly.io as pio\n",
    "import os\n",
    "pio.renderers.default = 'notebook'\n",
    "\n",
    "def data_process(data, year):   \n",
    "    #找year=2020\n",
    "    data_year = data[data['Year'] == year]\n",
    "    # 根據Date列對數據進行分組\n",
    "    grouped = data_year.groupby('Date')\n",
    "    max_kwh = grouped.apply(lambda x: x.loc[x['KWH_A'].idxmax(), [ 'Month','Hour', 'KWH_A']])\n",
    "    return max_kwh\n",
    "    \n",
    "def plot_chart(plot_data, title, savepath):   \n",
    "    fig = px.box(plot_data, x=\"Month\", y=\"Hour\",title=title, points=\"all\")\n",
    "    fig.update_yaxes(range=[-1,24], dtick=1)\n",
    "    \n",
    "    os.makedirs(savepath, exist_ok=True)\n",
    "    \n",
    "    fig.write_html(f\"{savepath}/{title}.html\")    \n",
    "    "
   ]
  },
  {
   "cell_type": "code",
   "execution_count": 3,
   "id": "e6b73e7a",
   "metadata": {},
   "outputs": [],
   "source": [
    "for i in range(1,4):\n",
    "\n",
    "    data = pd.read_csv(f'2_groupby/output_{i}.csv',encoding='ANSI')\n",
    "    \n",
    "    for year in data['Year'].unique(): #data['Year'].unique() #array([2020, 2021, 2022, 2023, 2024], dtype=int64)\n",
    "    \n",
    "        max_kwh = data_process(data, year)\n",
    "        plot_chart(max_kwh, title=f\"{year}年_每月每天最高用電量在幾點的盒鬚圖\", savepath= f'10_批量產圖/id_{i}')\n",
    "\n",
    "    "
   ]
  },
  {
   "cell_type": "code",
   "execution_count": null,
   "id": "772cd0a6-111a-457d-8c5e-7bab27f9895e",
   "metadata": {},
   "outputs": [],
   "source": []
  }
 ],
 "metadata": {
  "kernelspec": {
   "display_name": "Python 3 (ipykernel)",
   "language": "python",
   "name": "python3"
  },
  "language_info": {
   "codemirror_mode": {
    "name": "ipython",
    "version": 3
   },
   "file_extension": ".py",
   "mimetype": "text/x-python",
   "name": "python",
   "nbconvert_exporter": "python",
   "pygments_lexer": "ipython3",
   "version": "3.9.0"
  }
 },
 "nbformat": 4,
 "nbformat_minor": 5
}
