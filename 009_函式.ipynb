{
 "cells": [
  {
   "cell_type": "code",
   "execution_count": 20,
   "id": "fbd53938",
   "metadata": {},
   "outputs": [],
   "source": [
    "import pandas as pd\n",
    "'''\n",
    "    函數是一個僅在被呼叫時運行的程式碼區塊。\n",
    "\n",
    "    可以將資料（稱為參數）傳遞到函數中。\n",
    "\n",
    "    函數可以傳回資料作為結果。\n",
    "    可以讓程式碼可讀性變高\n",
    "'''\n",
    "\n",
    "\n",
    "def my_function1():\n",
    "    print(\"Hello from a function\")\n",
    "\n",
    "\n"
   ]
  },
  {
   "cell_type": "code",
   "execution_count": 15,
   "id": "db7a708b",
   "metadata": {},
   "outputs": [
    {
     "name": "stdout",
     "output_type": "stream",
     "text": [
      "Hello from a function\n",
      "name --> xxxxx\n",
      "email --> uxxxxx\n"
     ]
    }
   ],
   "source": [
    "my_function1() \n",
    "my_function2(\"xxxxx\")"
   ]
  },
  {
   "cell_type": "code",
   "execution_count": 23,
   "id": "b6a51145",
   "metadata": {},
   "outputs": [
    {
     "name": "stdout",
     "output_type": "stream",
     "text": [
      "name --> 621882\n",
      "email --> u621882@taipower.com.tw\n",
      "======================================================\n",
      "name --> 621xxx\n",
      "email --> u621xxx@taipower.com.tw\n",
      "======================================================\n"
     ]
    }
   ],
   "source": [
    "namelist = [\"621882\",\"621xxx\"]\n",
    "for i in range(len(namelist)):\n",
    "    name = namelist[i]\n",
    "    print('name -->', name)\n",
    "    print('email -->', 'u'+name+'@taipower.com.tw')  \n",
    "    print('======================================================')"
   ]
  },
  {
   "cell_type": "code",
   "execution_count": 25,
   "id": "46b2d561",
   "metadata": {},
   "outputs": [],
   "source": [
    "def my_function2(name):\n",
    "    print('name -->', name)\n",
    "    print('email -->', 'u'+name+'@taipower.com.tw')  \n",
    "    print('======================================================')"
   ]
  },
  {
   "cell_type": "code",
   "execution_count": 26,
   "id": "5459a046",
   "metadata": {},
   "outputs": [
    {
     "name": "stdout",
     "output_type": "stream",
     "text": [
      "name --> 621882\n",
      "email --> u621882@taipower.com.tw\n",
      "======================================================\n",
      "name --> 621xxx\n",
      "email --> u621xxx@taipower.com.tw\n",
      "======================================================\n"
     ]
    }
   ],
   "source": [
    "namelist = [\"621882\",\"621xxx\"]\n",
    "for i in range(len(namelist)):\n",
    "    name = namelist[i]\n",
    "    my_function2(name)    "
   ]
  },
  {
   "cell_type": "markdown",
   "id": "d18deab2-0e11-4506-bbc4-a1e10a307193",
   "metadata": {},
   "source": [
    "# 8_例子寫成函式"
   ]
  },
  {
   "cell_type": "code",
   "execution_count": null,
   "id": "0a8c28ea-1b50-404c-8ac6-dcc35ced97e4",
   "metadata": {},
   "outputs": [],
   "source": [
    "import pandas as pd\n",
    "import numpy as np\n",
    "import plotly.express as px\n",
    "import plotly.io as pio\n",
    "import os\n",
    "pio.renderers.default = 'notebook'\n",
    "##===================================      數據處理    ====================================================\n",
    "#讀取csv \n",
    "data = pd.read_csv('2_groupby/output_1.csv',encoding='ANSI')\n",
    "\n",
    "#找year=2020\n",
    "data_2020 = data[data['Year'] == 2020]\n",
    "# 根據Date列對數據進行分組\n",
    "grouped_2020 = data_2020.groupby('Date')\n",
    "max_kwh_2020 = grouped_2020.apply(lambda x: x.loc[x['KWH_A'].idxmax(), [ 'Month','Hour', 'KWH_A']])\n",
    "\n",
    "##========================================================================================================\n",
    "\n",
    "fig = px.box(max_kwh_2020, x=\"Month\", y=\"Hour\",title='2020年_每月每天最高用電量在幾點的盒鬚圖',points=\"all\")\n",
    "fig.update_yaxes(range=[-1,24], dtick=1)\n",
    "\n",
    "os.makedirs(\"9_例子/id_1\", exist_ok=True)\n",
    "\n",
    "fig.write_html(\"9_例子/id_1/2020年_每月每天最高用電量在幾點的盒鬚圖.html\")\n",
    "fig.show()\n",
    "max_kwh_2020"
   ]
  },
  {
   "cell_type": "markdown",
   "id": "9462e6f0-79c3-4be9-9a91-9c6aa90c9092",
   "metadata": {},
   "source": [
    "## 引入套件"
   ]
  },
  {
   "cell_type": "code",
   "execution_count": 12,
   "id": "0ece92e0-d8f4-4ebe-9575-2ea201cada93",
   "metadata": {},
   "outputs": [],
   "source": [
    "import pandas as pd\n",
    "import numpy as np\n",
    "import plotly.express as px\n",
    "import plotly.io as pio\n",
    "import os\n",
    "pio.renderers.default = 'notebook'"
   ]
  },
  {
   "cell_type": "markdown",
   "id": "eb1e7674-8bf8-4b0d-b2dd-5b821d1bd8a4",
   "metadata": {},
   "source": [
    "## 數據處理"
   ]
  },
  {
   "cell_type": "code",
   "execution_count": 13,
   "id": "402a8779-2ccf-45d1-829a-df0b5096088b",
   "metadata": {},
   "outputs": [],
   "source": [
    "def data_process(data, year):   \n",
    "    #找year=2020\n",
    "    data_year = data[data['Year'] == year]\n",
    "    # 根據Date列對數據進行分組\n",
    "    grouped = data_year.groupby('Date')\n",
    "    max_kwh = grouped.apply(lambda x: x.loc[x['KWH_A'].idxmax(), [ 'Month','Hour', 'KWH_A']])\n",
    "    return max_kwh"
   ]
  },
  {
   "cell_type": "code",
   "execution_count": 10,
   "id": "ae93abc4-f737-45a0-b0c1-adcb72f74264",
   "metadata": {},
   "outputs": [
    {
     "data": {
      "text/plain": [
       "array([2020, 2021, 2022, 2023, 2024], dtype=int64)"
      ]
     },
     "execution_count": 10,
     "metadata": {},
     "output_type": "execute_result"
    }
   ],
   "source": []
  },
  {
   "cell_type": "markdown",
   "id": "15b19375-e607-41e9-8d75-ef4b97f4bc7d",
   "metadata": {},
   "source": [
    "## 畫圖"
   ]
  },
  {
   "cell_type": "code",
   "execution_count": 14,
   "id": "f398386f-3a00-4042-a733-2ee246ce42e4",
   "metadata": {},
   "outputs": [],
   "source": [
    "def plot_chart(plot_data, title, savepath):   \n",
    "    fig = px.box(plot_data, x=\"Month\", y=\"Hour\",title=title, points=\"all\")\n",
    "    fig.update_yaxes(range=[-1,24], dtick=1)\n",
    "    \n",
    "    os.makedirs(savepath, exist_ok=True)\n",
    "    \n",
    "    fig.write_html(f\"{savepath}/{title}.html\")\n",
    "    # fig.show()"
   ]
  },
  {
   "cell_type": "markdown",
   "id": "4819f80e-ece4-4f02-acbe-1a1b9b03d544",
   "metadata": {},
   "source": [
    "# 合併"
   ]
  },
  {
   "cell_type": "code",
   "execution_count": 15,
   "id": "2fbe3496-dda6-4b15-b699-308172ef11bc",
   "metadata": {},
   "outputs": [],
   "source": [
    "data = pd.read_csv('2_groupby/output_1.csv',encoding='ANSI')\n",
    "\n",
    "for year in data['Year'].unique(): #data['Year'].unique() #array([2020, 2021, 2022, 2023, 2024], dtype=int64)\n",
    "\n",
    "    max_kwh = data_process(data, year)\n",
    "    plot_chart(max_kwh, title=f\"{year}年_每月每天最高用電量在幾點的盒鬚圖\", savepath= '9_函式/id_1')\n",
    "    "
   ]
  },
  {
   "cell_type": "code",
   "execution_count": null,
   "id": "5ce57f6b-8e18-49bc-9da0-6849648a1570",
   "metadata": {},
   "outputs": [],
   "source": []
  }
 ],
 "metadata": {
  "kernelspec": {
   "display_name": "Python 3 (ipykernel)",
   "language": "python",
   "name": "python3"
  },
  "language_info": {
   "codemirror_mode": {
    "name": "ipython",
    "version": 3
   },
   "file_extension": ".py",
   "mimetype": "text/x-python",
   "name": "python",
   "nbconvert_exporter": "python",
   "pygments_lexer": "ipython3",
   "version": "3.9.0"
  }
 },
 "nbformat": 4,
 "nbformat_minor": 5
}
